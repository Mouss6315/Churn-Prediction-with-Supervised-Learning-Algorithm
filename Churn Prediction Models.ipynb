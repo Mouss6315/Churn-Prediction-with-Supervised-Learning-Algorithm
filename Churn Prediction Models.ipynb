{
 "cells": [
  {
   "cell_type": "code",
   "execution_count": 1,
   "id": "4629799b",
   "metadata": {},
   "outputs": [],
   "source": [
    "import pandas as pd\n",
    "import matplotlib.pyplot as plt\n",
    "import seaborn as sns\n",
    "from sklearn.model_selection import train_test_split\n",
    "from sklearn.linear_model import LogisticRegression\n",
    "from sklearn.metrics import classification_report, confusion_matrix\n",
    "from sklearn.preprocessing import OneHotEncoder\n",
    "from sklearn.compose import ColumnTransformer\n",
    "from sklearn.pipeline import Pipeline\n",
    "import numpy as np"
   ]
  },
  {
   "cell_type": "code",
   "execution_count": 2,
   "id": "d0edb08e",
   "metadata": {},
   "outputs": [],
   "source": [
    "from sklearn.ensemble import RandomForestClassifier\n",
    "from scikitplot.metrics import plot_cumulative_gain\n",
    "from sklearn.metrics import roc_curve, auc\n",
    "from sklearn.metrics import classification_report, confusion_matrix\n",
    "from sklearn.metrics import roc_auc_score"
   ]
  },
  {
   "cell_type": "code",
   "execution_count": 64,
   "id": "0b583627",
   "metadata": {},
   "outputs": [],
   "source": [
    "from xgboost import XGBClassifier"
   ]
  },
  {
   "cell_type": "code",
   "execution_count": 3,
   "id": "1cba49ca",
   "metadata": {},
   "outputs": [
    {
     "name": "stderr",
     "output_type": "stream",
     "text": [
      "C:\\Users\\RAZAFIMANANTENA\\AppData\\Local\\Temp\\ipykernel_4960\\792831783.py:1: DtypeWarning: Columns (9) have mixed types. Specify dtype option on import or set low_memory=False.\n",
      "  final_data = pd.read_csv(\"Final_Data.csv\")\n"
     ]
    }
   ],
   "source": [
    "final_data = pd.read_csv(\"Final_Data.csv\")"
   ]
  },
  {
   "cell_type": "code",
   "execution_count": 4,
   "id": "e3a3e218",
   "metadata": {},
   "outputs": [
    {
     "name": "stdout",
     "output_type": "stream",
     "text": [
      "       CustomerID         StartDate  Amount        Discount  \\\n",
      "0           90095  09/12/2012 00:00      28  NESSUNO SCONTO   \n",
      "1           89662  06/01/2013 00:00      28  NESSUNO SCONTO   \n",
      "2          202278  27/01/2013 00:00      28  NESSUNO SCONTO   \n",
      "3          269895  02/12/2012 00:00      28  NESSUNO SCONTO   \n",
      "4           88177  26/01/2013 00:00      28  NESSUNO SCONTO   \n",
      "...           ...               ...     ...             ...   \n",
      "69596       93927  02/02/2013 00:00      28  NESSUNO SCONTO   \n",
      "69597       45158  27/03/2013 00:00      28  NESSUNO SCONTO   \n",
      "69598       91844  02/02/2013 00:00      28  NESSUNO SCONTO   \n",
      "69599       91055  22/01/2013 00:00      28  NESSUNO SCONTO   \n",
      "69600       90957  03/02/2013 00:00      28  NESSUNO SCONTO   \n",
      "\n",
      "                      ReductionType PaymentMethod  \\\n",
      "0      ABBONAMENTO RIDOTTO SCONTATO      CONTANTI   \n",
      "1      ABBONAMENTO RIDOTTO SCONTATO      CONTANTI   \n",
      "2      ABBONAMENTO RIDOTTO SCONTATO      BANCOMAT   \n",
      "3      ABBONAMENTO RIDOTTO SCONTATO      CONTANTI   \n",
      "4      ABBONAMENTO RIDOTTO SCONTATO      CONTANTI   \n",
      "...                             ...           ...   \n",
      "69596  ABBONAMENTO RIDOTTO SCONTATO      CONTANTI   \n",
      "69597  ABBONAMENTO RIDOTTO SCONTATO      BANCOMAT   \n",
      "69598  ABBONAMENTO RIDOTTO SCONTATO      CONTANTI   \n",
      "69599  ABBONAMENTO RIDOTTO SCONTATO      CONTANTI   \n",
      "69600  ABBONAMENTO RIDOTTO SCONTATO      CONTANTI   \n",
      "\n",
      "                            Agency         AgencyType Gender  \\\n",
      "0      INFOPIEMONTE TORINO CULTURA  PUNTO INFORMATIVO      M   \n",
      "1      INFOPIEMONTE TORINO CULTURA  PUNTO INFORMATIVO      M   \n",
      "2      INFOPIEMONTE TORINO CULTURA  PUNTO INFORMATIVO      M   \n",
      "3               LIBRERIA MONDADORI  PUNTO COMMERCIALE      M   \n",
      "4      INFOPIEMONTE TORINO CULTURA  PUNTO INFORMATIVO      M   \n",
      "...                            ...                ...    ...   \n",
      "69596  INFOPIEMONTE TORINO CULTURA  PUNTO INFORMATIVO      F   \n",
      "69597  INFOPIEMONTE TORINO CULTURA  PUNTO INFORMATIVO      F   \n",
      "69598  INFOPIEMONTE TORINO CULTURA  PUNTO INFORMATIVO      M   \n",
      "69599  INFOPIEMONTE TORINO CULTURA  PUNTO INFORMATIVO      F   \n",
      "69600  INFOPIEMONTE TORINO CULTURA  PUNTO INFORMATIVO      F   \n",
      "\n",
      "                          BirthYear  ... CardStartDate2013 RenewalDate2014  \\\n",
      "0     1985-01-01 00:00:00.000000000  ...        2012-12-09      2013-12-28   \n",
      "1     1985-01-01 00:00:00.000000000  ...        2013-01-06     Not Renewed   \n",
      "2     1992-01-01 00:00:00.000000000  ...        2013-01-27     Not Renewed   \n",
      "3     1986-01-01 00:00:00.000000000  ...        2012-12-02      2013-12-19   \n",
      "4     1983-01-01 00:00:00.000000000  ...        2013-01-26      2013-12-01   \n",
      "...                             ...  ...               ...             ...   \n",
      "69596 1970-01-01 00:00:00.000001984  ...        2013-02-02     Not Renewed   \n",
      "69597 1970-01-01 00:00:00.000001990  ...        2013-03-27     Not Renewed   \n",
      "69598 1970-01-01 00:00:00.000001984  ...        2013-02-02     Not Renewed   \n",
      "69599 1970-01-01 00:00:00.000001997  ...        2013-01-22     Not Renewed   \n",
      "69600 1970-01-01 00:00:00.000001991  ...        2013-02-03      2014-05-24   \n",
      "\n",
      "      TotalVisits  AverageSpending  FirstVisit MostVisitedMuseumCity  \\\n",
      "0              15         3.950000  2012-09-12                TORINO   \n",
      "1               3         4.583333  2013-03-03                TORINO   \n",
      "2               6         3.916667  2013-02-14                TORINO   \n",
      "3              11         4.363636  2013-01-13                TORINO   \n",
      "4               8         3.531250  2013-02-03                TORINO   \n",
      "...           ...              ...         ...                   ...   \n",
      "69596           5         3.600000  2013-06-07                TORINO   \n",
      "69597           6         4.100000  2013-04-20                TORINO   \n",
      "69598           2         3.750000  2013-02-02             RACCONIGI   \n",
      "69599           1         1.500000  2013-11-24                TORINO   \n",
      "69600           3         4.083333  2013-03-02                TORINO   \n",
      "\n",
      "       MostVisitedMuseumProvince                        MostVisitedMuseumName  \\\n",
      "0                             TO                    REGGIA DI VENARIA REALE     \n",
      "1                             TO                                          MAO   \n",
      "2                             TO                                PALAZZO REALE   \n",
      "3                             TO                   FORTE ALBERTINO DI VINADIO   \n",
      "4                             TO      MUSEO ANTROP. CRIMINALE CESARE LOMBROSO   \n",
      "...                          ...                                          ...   \n",
      "69596                         TO     MOSTRA \\ROBERT CAPA - RETROSPETTIVA\\\\\\\"\"   \n",
      "69597                         TO                        CASTELLO DI MIRADOLO    \n",
      "69598                         CN                        CASTELLO DI RACCONIGI   \n",
      "69599                         TO                          BASILICA DI SUPERGA   \n",
      "69600                         TO  MOSTRA \\ELLIOTT ERWITT - RETROSPETTIVA\\\\\\\"\"   \n",
      "\n",
      "      FinalLastVisit interval_visit  \n",
      "0         2013-12-05             27  \n",
      "1         2013-09-06             93  \n",
      "2         2013-07-18             30  \n",
      "3         2013-12-05             32  \n",
      "4         2013-12-05             43  \n",
      "...              ...            ...  \n",
      "69596     2013-12-05             45  \n",
      "69597     2013-11-20             42  \n",
      "69598     2013-05-25            112  \n",
      "69599     2013-11-24              0  \n",
      "69600     2013-09-02             92  \n",
      "\n",
      "[69601 rows x 24 columns]\n"
     ]
    }
   ],
   "source": [
    "# Convertissez la colonne 'BirthYear' au format de date\n",
    "final_data['BirthYear'] = pd.to_datetime(final_data['BirthYear'], errors='coerce')\n",
    "\n",
    "# Vérifiez si la conversion a réussi\n",
    "print(final_data)\n",
    "\n",
    "# Calculez l'âge en soustrayant l'année de naissance de 2014\n",
    "final_data['Âge'] = 2014 - final_data['BirthYear'].dt.year\n"
   ]
  },
  {
   "cell_type": "code",
   "execution_count": 5,
   "id": "693697ef",
   "metadata": {},
   "outputs": [],
   "source": [
    "# Sélection des colonnes\n",
    "selected_columns = ['Amount', 'Discount', 'Gender', 'ReductionType', 'interval_visit', 'Âge', 'AverageSpending', \n",
    "                    'Label2014']\n",
    "df1 = final_data[selected_columns].dropna()"
   ]
  },
  {
   "cell_type": "code",
   "execution_count": 6,
   "id": "e13e9416",
   "metadata": {},
   "outputs": [],
   "source": [
    "y = df1['Label2014']\n",
    "X = df1.drop('Label2014', axis=1)"
   ]
  },
  {
   "cell_type": "code",
   "execution_count": 7,
   "id": "dd85173f",
   "metadata": {},
   "outputs": [],
   "source": [
    "# Division des données en ensembles d'entraînement et de test\n",
    "X_train, X_test, y_train, y_test = train_test_split(X, y, test_size=0.2, random_state=42)"
   ]
  },
  {
   "cell_type": "code",
   "execution_count": 8,
   "id": "0aa8cdfb",
   "metadata": {},
   "outputs": [],
   "source": [
    "# Combine the features and target variable into training and test DataFrames\n",
    "train = pd.concat([X_train, y_train], axis=1)\n",
    "test = pd.concat([X_test, y_test], axis=1)"
   ]
  },
  {
   "cell_type": "code",
   "execution_count": 9,
   "id": "4eb11d01",
   "metadata": {},
   "outputs": [],
   "source": [
    "# Encodage des variables catégorielles\n",
    "categorical_features = ['Discount', 'Gender', 'ReductionType']\n",
    "one_hot_encoder = OneHotEncoder()"
   ]
  },
  {
   "cell_type": "code",
   "execution_count": 10,
   "id": "8c2a55a3",
   "metadata": {},
   "outputs": [],
   "source": [
    "# Création d'un pipeline avec encodage one-hot et modèle de forêt aléatoire\n",
    "preprocessor = ColumnTransformer(\n",
    "    transformers=[('cat', one_hot_encoder, categorical_features)],\n",
    "    remainder='passthrough')\n",
    "\n",
    "model_rf = Pipeline(steps=[('preprocessor', preprocessor),\n",
    "                        ('classifier', RandomForestClassifier(random_state=42))])\n"
   ]
  },
  {
   "cell_type": "code",
   "execution_count": 11,
   "id": "17ffa7aa",
   "metadata": {},
   "outputs": [
    {
     "data": {
      "text/plain": [
       "Pipeline(steps=[('preprocessor',\n",
       "                 ColumnTransformer(remainder='passthrough',\n",
       "                                   transformers=[('cat', OneHotEncoder(),\n",
       "                                                  ['Discount', 'Gender',\n",
       "                                                   'ReductionType'])])),\n",
       "                ('classifier', RandomForestClassifier(random_state=42))])"
      ]
     },
     "execution_count": 11,
     "metadata": {},
     "output_type": "execute_result"
    }
   ],
   "source": [
    "# Entraînement du modèle\n",
    "model_rf.fit(X_train, y_train)\n"
   ]
  },
  {
   "cell_type": "code",
   "execution_count": 12,
   "id": "77beacd6",
   "metadata": {},
   "outputs": [],
   "source": [
    "# Make predictions on the test set\n",
    "predictions_prob_rf = model_rf.predict(test)"
   ]
  },
  {
   "cell_type": "code",
   "execution_count": 15,
   "id": "60dbed4f",
   "metadata": {},
   "outputs": [
    {
     "data": {
      "text/plain": [
       "array([1, 1, 0, ..., 1, 0, 1], dtype=int64)"
      ]
     },
     "execution_count": 15,
     "metadata": {},
     "output_type": "execute_result"
    }
   ],
   "source": [
    "predictions_prob_rf"
   ]
  },
  {
   "cell_type": "code",
   "execution_count": 15,
   "id": "bf7a55e1",
   "metadata": {},
   "outputs": [],
   "source": [
    "from sklearn.metrics import classification_report, confusion_matrix"
   ]
  },
  {
   "cell_type": "code",
   "execution_count": 14,
   "id": "a89d5e8e",
   "metadata": {},
   "outputs": [],
   "source": [
    "# Obtenir les probabilités des prédictions\n",
    "rf_probs = model_rf.predict_proba(X_test)"
   ]
  },
  {
   "cell_type": "code",
   "execution_count": 26,
   "id": "163ea533",
   "metadata": {},
   "outputs": [
    {
     "data": {
      "text/plain": [
       "array([[0.37, 0.63],\n",
       "       [0.22, 0.78],\n",
       "       [0.75, 0.25],\n",
       "       ...,\n",
       "       [0.02, 0.98],\n",
       "       [0.85, 0.15],\n",
       "       [0.48, 0.52]])"
      ]
     },
     "execution_count": 26,
     "metadata": {},
     "output_type": "execute_result"
    }
   ],
   "source": [
    "rf_probs"
   ]
  },
  {
   "cell_type": "code",
   "execution_count": 16,
   "id": "3462587f",
   "metadata": {},
   "outputs": [
    {
     "data": {
      "image/png": "[encoded data removed]",
      "text/plain": [
       "<Figure size 1000x700 with 1 Axes>"
      ]
     },
     "metadata": {},
     "output_type": "display_data"
    },
    {
     "name": "stdout",
     "output_type": "stream",
     "text": [
      "AUC: 0.6928027989624669\n"
     ]
    }
   ],
   "source": [
    "# Garder les probabilités pour la classe positive uniquement (généralement classe 1)\n",
    "rf_probs = rf_probs[:, 1]\n",
    "\n",
    "# Calculer les scores AUC\n",
    "fpr, tpr, thresholds = roc_curve(y_test, rf_probs)\n",
    "roc_auc = auc(fpr, tpr)\n",
    "\n",
    "# Afficher la courbe ROC\n",
    "plt.figure(figsize=(10, 7))\n",
    "plt.plot(fpr, tpr, color='blue', label='ROC curve (area = %0.2f)' % roc_auc)\n",
    "plt.plot([0, 1], [0, 1], color='darkorange', linestyle='--')\n",
    "plt.xlabel('False Positive Rate')\n",
    "plt.ylabel('True Positive Rate')\n",
    "plt.title('Receiver Operating Characteristic (ROC) Curve')\n",
    "plt.legend(loc=\"lower right\")\n",
    "plt.show()\n",
    "\n",
    "# Afficher l'AUC\n",
    "print(\"AUC:\", roc_auc)"
   ]
  },
  {
   "cell_type": "code",
   "execution_count": 17,
   "id": "be8a079a",
   "metadata": {},
   "outputs": [],
   "source": [
    "from sklearn.metrics import roc_auc_score"
   ]
  },
  {
   "cell_type": "code",
   "execution_count": 18,
   "id": "ef114fab",
   "metadata": {},
   "outputs": [],
   "source": [
    "# Calculer l'AUC (Area Under the Curve)\n",
    "\n",
    "roc_auc = roc_auc_score(test['Label2014'], rf_probs)"
   ]
  },
  {
   "cell_type": "code",
   "execution_count": 19,
   "id": "2ae16757",
   "metadata": {},
   "outputs": [
    {
     "data": {
      "text/plain": [
       "0.6928027989624669"
      ]
     },
     "execution_count": 19,
     "metadata": {},
     "output_type": "execute_result"
    }
   ],
   "source": [
    "roc_auc"
   ]
  },
  {
   "cell_type": "code",
   "execution_count": 20,
   "id": "063835c4",
   "metadata": {},
   "outputs": [
    {
     "data": {
      "text/plain": [
       "array([0.        , 0.10496032, 0.10515873, ..., 0.99910714, 0.99910714,\n",
       "       1.        ])"
      ]
     },
     "execution_count": 20,
     "metadata": {},
     "output_type": "execute_result"
    }
   ],
   "source": [
    "tpr"
   ]
  },
  {
   "cell_type": "code",
   "execution_count": 21,
   "id": "042e58ce",
   "metadata": {},
   "outputs": [
    {
     "name": "stdout",
     "output_type": "stream",
     "text": [
      "           FPR       TPR  Thresholds\n",
      "0     0.000000  0.000000    2.000000\n",
      "1     0.025521  0.104960    1.000000\n",
      "2     0.025521  0.105159    0.998000\n",
      "3     0.026042  0.105159    0.997500\n",
      "4     0.027083  0.105556    0.996667\n",
      "...        ...       ...         ...\n",
      "1443  0.994271  0.999008    0.008000\n",
      "1444  0.994531  0.999008    0.007429\n",
      "1445  0.994792  0.999107    0.005833\n",
      "1446  0.995313  0.999107    0.001429\n",
      "1447  1.000000  1.000000    0.000000\n",
      "\n",
      "[1448 rows x 3 columns]\n"
     ]
    }
   ],
   "source": [
    "# Créer un DataFrame avec les valeurs de la performance ROC\n",
    "perf_roc_rf = pd.DataFrame({'FPR': fpr, 'TPR': tpr, 'Thresholds': thresholds})\n",
    "\n",
    "# Afficher la performance ROC\n",
    "print(perf_roc_rf)"
   ]
  },
  {
   "cell_type": "code",
   "execution_count": 36,
   "id": "e711e266",
   "metadata": {},
   "outputs": [
    {
     "name": "stdout",
     "output_type": "stream",
     "text": [
      "AUC: 0.6928027989624669\n"
     ]
    }
   ],
   "source": [
    "# Calculer l'AUC (Area Under the Curve)\n",
    "perf_auc_rf = roc_auc_score(test['Label2014'], rf_probs)\n",
    "\n",
    "# Afficher l'AUC\n",
    "print(\"AUC:\", perf_auc_rf)"
   ]
  },
  {
   "cell_type": "code",
   "execution_count": 22,
   "id": "4ea4fa09",
   "metadata": {},
   "outputs": [
    {
     "name": "stdout",
     "output_type": "stream",
     "text": [
      "           fpr       tpr\n",
      "0     0.000000  0.000000\n",
      "1     0.025521  0.104960\n",
      "2     0.025521  0.105159\n",
      "3     0.026042  0.105159\n",
      "4     0.027083  0.105556\n",
      "...        ...       ...\n",
      "1443  0.994271  0.999008\n",
      "1444  0.994531  0.999008\n",
      "1445  0.994792  0.999107\n",
      "1446  0.995313  0.999107\n",
      "1447  1.000000  1.000000\n",
      "\n",
      "[1448 rows x 2 columns]\n"
     ]
    }
   ],
   "source": [
    "# Extraire les valeurs de FPR, TPR à partir de perf.roc_rf\n",
    "ROC_df_rf = pd.DataFrame({\n",
    "    'fpr': perf_roc_rf['FPR'],\n",
    "    'tpr': perf_roc_rf['TPR']\n",
    "})\n",
    "\n",
    "# Afficher le DataFrame\n",
    "print(ROC_df_rf)"
   ]
  },
  {
   "cell_type": "code",
   "execution_count": 43,
   "id": "bde85866",
   "metadata": {},
   "outputs": [
    {
     "name": "stderr",
     "output_type": "stream",
     "text": [
      "C:\\Users\\RAZAFIMANANTENA\\anaconda3\\lib\\site-packages\\sklearn\\linear_model\\_logistic.py:814: ConvergenceWarning: lbfgs failed to converge (status=1):\n",
      "STOP: TOTAL NO. of ITERATIONS REACHED LIMIT.\n",
      "\n",
      "Increase the number of iterations (max_iter) or scale the data as shown in:\n",
      "    https://scikit-learn.org/stable/modules/preprocessing.html\n",
      "Please also refer to the documentation for alternative solver options:\n",
      "    https://scikit-learn.org/stable/modules/linear_model.html#logistic-regression\n",
      "  n_iter_i = _check_optimize_result(\n"
     ]
    },
    {
     "data": {
      "text/plain": [
       "Pipeline(steps=[('preprocessor',\n",
       "                 ColumnTransformer(remainder='passthrough',\n",
       "                                   transformers=[('cat', OneHotEncoder(),\n",
       "                                                  ['Discount', 'Gender',\n",
       "                                                   'ReductionType'])])),\n",
       "                ('classifier', LogisticRegression())])"
      ]
     },
     "execution_count": 43,
     "metadata": {},
     "output_type": "execute_result"
    }
   ],
   "source": [
    "### \n",
    "# Create a pipeline with one hot encoding and logistic regression\n",
    "preprocessor = ColumnTransformer(\n",
    "    transformers=[\n",
    "        ('cat', one_hot_encoder, categorical_features)],\n",
    "    remainder='passthrough')\n",
    "\n",
    "model_lr = Pipeline(steps=[('preprocessor', preprocessor),\n",
    "                        ('classifier', LogisticRegression())])\n",
    "\n",
    "# Fit the model\n",
    "model_lr.fit(X_train, y_train)"
   ]
  },
  {
   "cell_type": "code",
   "execution_count": 46,
   "id": "f2538083",
   "metadata": {},
   "outputs": [],
   "source": [
    "# Generate probability predictions using a logistic regression model\n",
    "predictions_prob_lr = model_lr.predict(X_test)"
   ]
  },
  {
   "cell_type": "code",
   "execution_count": 48,
   "id": "6f5f611a",
   "metadata": {},
   "outputs": [
    {
     "data": {
      "text/plain": [
       "array([1, 1, 0, ..., 1, 1, 1], dtype=int64)"
      ]
     },
     "execution_count": 48,
     "metadata": {},
     "output_type": "execute_result"
    }
   ],
   "source": [
    "predictions_prob_lr"
   ]
  },
  {
   "cell_type": "code",
   "execution_count": 49,
   "id": "22ebc321",
   "metadata": {},
   "outputs": [],
   "source": [
    "#rename\n",
    "lr_probs = model_lr.predict_proba(X_test)"
   ]
  },
  {
   "cell_type": "code",
   "execution_count": 51,
   "id": "f041da6a",
   "metadata": {},
   "outputs": [
    {
     "data": {
      "text/plain": [
       "array([[0.3928715 , 0.6071285 ],\n",
       "       [0.19086895, 0.80913105],\n",
       "       [0.60209387, 0.39790613],\n",
       "       ...,\n",
       "       [0.14254249, 0.85745751],\n",
       "       [0.49369774, 0.50630226],\n",
       "       [0.49631186, 0.50368814]])"
      ]
     },
     "execution_count": 51,
     "metadata": {},
     "output_type": "execute_result"
    }
   ],
   "source": [
    "lr_probs "
   ]
  },
  {
   "cell_type": "code",
   "execution_count": 53,
   "id": "f2a41726",
   "metadata": {},
   "outputs": [
    {
     "ename": "IndexError",
     "evalue": "too many indices for array: array is 1-dimensional, but 2 were indexed",
     "output_type": "error",
     "traceback": [
      "\u001b[1;31m---------------------------------------------------------------------------\u001b[0m",
      "\u001b[1;31mIndexError\u001b[0m                                Traceback (most recent call last)",
      "\u001b[1;32m~\\AppData\\Local\\Temp\\ipykernel_4960\\2572269437.py\u001b[0m in \u001b[0;36m<module>\u001b[1;34m\u001b[0m\n\u001b[0;32m      1\u001b[0m \u001b[1;31m# Garder les probabilités pour la classe positive uniquement (généralement classe 1)\u001b[0m\u001b[1;33m\u001b[0m\u001b[1;33m\u001b[0m\u001b[0m\n\u001b[1;32m----> 2\u001b[1;33m \u001b[0mlr_probs\u001b[0m \u001b[1;33m=\u001b[0m \u001b[0mlr_probs\u001b[0m\u001b[1;33m[\u001b[0m\u001b[1;33m:\u001b[0m\u001b[1;33m,\u001b[0m \u001b[1;36m1\u001b[0m\u001b[1;33m]\u001b[0m\u001b[1;33m\u001b[0m\u001b[1;33m\u001b[0m\u001b[0m\n\u001b[0m\u001b[0;32m      3\u001b[0m \u001b[1;33m\u001b[0m\u001b[0m\n\u001b[0;32m      4\u001b[0m \u001b[1;31m# Calculer les scores AUC\u001b[0m\u001b[1;33m\u001b[0m\u001b[1;33m\u001b[0m\u001b[0m\n\u001b[0;32m      5\u001b[0m \u001b[0mfpr\u001b[0m\u001b[1;33m,\u001b[0m \u001b[0mtpr\u001b[0m\u001b[1;33m,\u001b[0m \u001b[0mthresholds\u001b[0m \u001b[1;33m=\u001b[0m \u001b[0mroc_curve\u001b[0m\u001b[1;33m(\u001b[0m\u001b[0my_test\u001b[0m\u001b[1;33m,\u001b[0m \u001b[0mlr_probs\u001b[0m\u001b[1;33m)\u001b[0m\u001b[1;33m\u001b[0m\u001b[1;33m\u001b[0m\u001b[0m\n",
      "\u001b[1;31mIndexError\u001b[0m: too many indices for array: array is 1-dimensional, but 2 were indexed"
     ]
    }
   ],
   "source": [
    "# Garder les probabilités pour la classe positive uniquement (généralement classe 1)\n",
    "lr_probs = lr_probs[:, 1]"
   ]
  },
  {
   "cell_type": "code",
   "execution_count": 54,
   "id": "d470d0f6",
   "metadata": {},
   "outputs": [
    {
     "data": {
      "image/png": "[encoded data removed]",
      "text/plain": [
       "<Figure size 1000x700 with 1 Axes>"
      ]
     },
     "metadata": {},
     "output_type": "display_data"
    },
    {
     "name": "stdout",
     "output_type": "stream",
     "text": [
      "AUC: 0.7118346845031416\n"
     ]
    }
   ],
   "source": [
    "# Calculer les scores AUC\n",
    "fpr, tpr, thresholds = roc_curve(y_test, lr_probs)\n",
    "roc_auc = auc(fpr, tpr)\n",
    "\n",
    "# Afficher la courbe ROC\n",
    "plt.figure(figsize=(10, 7))\n",
    "plt.plot(fpr, tpr, color='blue', label='ROC curve (area = %0.2f)' % roc_auc)\n",
    "plt.plot([0, 1], [0, 1], color='darkorange', linestyle='--')\n",
    "plt.xlabel('False Positive Rate')\n",
    "plt.ylabel('True Positive Rate')\n",
    "plt.title('Receiver Operating Characteristic (ROC) Curve')\n",
    "plt.legend(loc=\"lower right\")\n",
    "plt.show()\n",
    "\n",
    "# Afficher l'AUC\n",
    "print(\"AUC:\", roc_auc)"
   ]
  },
  {
   "cell_type": "code",
   "execution_count": 65,
   "id": "34d3e007",
   "metadata": {},
   "outputs": [
    {
     "data": {
      "text/plain": [
       "Pipeline(steps=[('preprocessor',\n",
       "                 ColumnTransformer(remainder='passthrough',\n",
       "                                   transformers=[('cat', OneHotEncoder(),\n",
       "                                                  ['Discount', 'Gender',\n",
       "                                                   'ReductionType'])])),\n",
       "                ('classifier',\n",
       "                 XGBClassifier(base_score=None, booster=None, callbacks=None,\n",
       "                               colsample_bylevel=None, colsample_bynode=None,\n",
       "                               colsample_bytree=None, device=None,\n",
       "                               early_stopping_rounds=None,\n",
       "                               enable_categorical=...\n",
       "                               feature_types=None, gamma=None, grow_policy=None,\n",
       "                               importance_type=None,\n",
       "                               interaction_constraints=None, learning_rate=None,\n",
       "                               max_bin=None, max_cat_threshold=None,\n",
       "                               max_cat_to_onehot=None, max_delta_step=None,\n",
       "                               max_depth=None, max_leaves=None,\n",
       "                               min_child_weight=None, missing=nan,\n",
       "                               monotone_constraints=None, multi_strategy=None,\n",
       "                               n_estimators=None, n_jobs=None,\n",
       "                               num_parallel_tree=None, random_state=42, ...))])"
      ]
     },
     "execution_count": 65,
     "metadata": {},
     "output_type": "execute_result"
    }
   ],
   "source": [
    "# Create a pipeline with one hot encoding and XGBoost classifier\n",
    "preprocessor = ColumnTransformer(\n",
    "    transformers=[\n",
    "        ('cat', one_hot_encoder, categorical_features)],\n",
    "    remainder='passthrough')\n",
    "\n",
    "model_gboost= Pipeline(steps=[('preprocessor', preprocessor),\n",
    "                        ('classifier', XGBClassifier(use_label_encoder=False, eval_metric='logloss', random_state=42))])\n",
    "\n",
    "# Fit the model\n",
    "model_gboost.fit(X_train, y_train)"
   ]
  },
  {
   "cell_type": "code",
   "execution_count": 66,
   "id": "a834bc04",
   "metadata": {},
   "outputs": [],
   "source": [
    "# Generate probability predictions using a XGBoost model\n",
    "predictions_prob_gboost = model_gboost.predict(X_test)"
   ]
  },
  {
   "cell_type": "code",
   "execution_count": 67,
   "id": "7cd240bf",
   "metadata": {},
   "outputs": [
    {
     "data": {
      "text/plain": [
       "array([1, 1, 0, ..., 1, 1, 0])"
      ]
     },
     "execution_count": 67,
     "metadata": {},
     "output_type": "execute_result"
    }
   ],
   "source": [
    "predictions_prob_gboost"
   ]
  },
  {
   "cell_type": "code",
   "execution_count": 68,
   "id": "f7186d6c",
   "metadata": {},
   "outputs": [],
   "source": [
    "# Rename\n",
    "gboost_probs = model_gboost.predict_proba(X_test)"
   ]
  },
  {
   "cell_type": "code",
   "execution_count": 69,
   "id": "a699dc09",
   "metadata": {},
   "outputs": [
    {
     "data": {
      "text/plain": [
       "array([[0.24274904, 0.75725096],\n",
       "       [0.29564673, 0.7043533 ],\n",
       "       [0.75358135, 0.24641867],\n",
       "       ...,\n",
       "       [0.09317994, 0.90682006],\n",
       "       [0.44906723, 0.55093277],\n",
       "       [0.5254481 , 0.4745519 ]], dtype=float32)"
      ]
     },
     "execution_count": 69,
     "metadata": {},
     "output_type": "execute_result"
    }
   ],
   "source": [
    "gboost_probs"
   ]
  },
  {
   "cell_type": "code",
   "execution_count": 70,
   "id": "8442bc2a",
   "metadata": {},
   "outputs": [],
   "source": [
    "# Garder les probabilités pour la classe positive uniquement (généralement classe 1)\n",
    "gboost_probs = gboost_probs[:, 1]"
   ]
  },
  {
   "cell_type": "code",
   "execution_count": 71,
   "id": "48a3c787",
   "metadata": {},
   "outputs": [
    {
     "data": {
      "image/png": "[encoded data removed]",
      "text/plain": [
       "<Figure size 1000x700 with 1 Axes>"
      ]
     },
     "metadata": {},
     "output_type": "display_data"
    },
    {
     "name": "stdout",
     "output_type": "stream",
     "text": [
      "AUC: 0.7469825122974537\n"
     ]
    }
   ],
   "source": [
    "# Calculer les scores AUC\n",
    "fpr, tpr, thresholds = roc_curve(y_test, gboost_probs)\n",
    "roc_auc = auc(fpr, tpr)\n",
    "\n",
    "# Afficher la courbe ROC\n",
    "plt.figure(figsize=(10, 7))\n",
    "plt.plot(fpr, tpr, color='blue', label='ROC curve (area = %0.2f)' % roc_auc)\n",
    "plt.plot([0, 1], [0, 1], color='darkorange', linestyle='--')\n",
    "plt.xlabel('False Positive Rate')\n",
    "plt.ylabel('True Positive Rate')\n",
    "plt.title('Receiver Operating Characteristic (ROC) Curve')\n",
    "plt.legend(loc=\"lower right\")\n",
    "plt.show()\n",
    "\n",
    "# Afficher l'AUC\n",
    "print(\"AUC:\", roc_auc)"
   ]
  },
  {
   "cell_type": "markdown",
   "id": "78dc25dc",
   "metadata": {},
   "source": [
    "### question 2"
   ]
  },
  {
   "cell_type": "code",
   "execution_count": null,
   "id": "b9028957",
   "metadata": {},
   "outputs": [],
   "source": [
    "#Make a copy of our original database\n",
    "testnew = test.copy()"
   ]
  },
  {
   "cell_type": "code",
   "execution_count": 25,
   "id": "674947ee",
   "metadata": {},
   "outputs": [
    {
     "data": {
      "text/html": [
       "<div>\n",
       "<style scoped>\n",
       "    .dataframe tbody tr th:only-of-type {\n",
       "        vertical-align: middle;\n",
       "    }\n",
       "\n",
       "    .dataframe tbody tr th {\n",
       "        vertical-align: top;\n",
       "    }\n",
       "\n",
       "    .dataframe thead th {\n",
       "        text-align: right;\n",
       "    }\n",
       "</style>\n",
       "<table border=\"1\" class=\"dataframe\">\n",
       "  <thead>\n",
       "    <tr style=\"text-align: right;\">\n",
       "      <th></th>\n",
       "      <th>Amount</th>\n",
       "      <th>Discount</th>\n",
       "      <th>Gender</th>\n",
       "      <th>ReductionType</th>\n",
       "      <th>interval_visit</th>\n",
       "      <th>Âge</th>\n",
       "      <th>AverageSpending</th>\n",
       "      <th>Label2014</th>\n",
       "    </tr>\n",
       "  </thead>\n",
       "  <tbody>\n",
       "    <tr>\n",
       "      <th>14362</th>\n",
       "      <td>44</td>\n",
       "      <td>MONDADORI CARD</td>\n",
       "      <td>M</td>\n",
       "      <td>ABBONAMENTI MUSEI TORINO</td>\n",
       "      <td>97</td>\n",
       "      <td>61.0</td>\n",
       "      <td>5.125000</td>\n",
       "      <td>1</td>\n",
       "    </tr>\n",
       "    <tr>\n",
       "      <th>23731</th>\n",
       "      <td>44</td>\n",
       "      <td>RINNOVO ABBONAMENTO</td>\n",
       "      <td>F</td>\n",
       "      <td>ABBONAMENTI MUSEI TORINO</td>\n",
       "      <td>132</td>\n",
       "      <td>38.0</td>\n",
       "      <td>5.166667</td>\n",
       "      <td>1</td>\n",
       "    </tr>\n",
       "    <tr>\n",
       "      <th>26307</th>\n",
       "      <td>30</td>\n",
       "      <td>NESSUNO SCONTO</td>\n",
       "      <td>F</td>\n",
       "      <td>ABBONAMENTO MUSEI RIDOTTO</td>\n",
       "      <td>165</td>\n",
       "      <td>23.0</td>\n",
       "      <td>5.500000</td>\n",
       "      <td>0</td>\n",
       "    </tr>\n",
       "    <tr>\n",
       "      <th>14361</th>\n",
       "      <td>49</td>\n",
       "      <td>NESSUNO SCONTO</td>\n",
       "      <td>F</td>\n",
       "      <td>ABBONAMENTI MUSEI TORINO</td>\n",
       "      <td>0</td>\n",
       "      <td>37.0</td>\n",
       "      <td>5.375000</td>\n",
       "      <td>1</td>\n",
       "    </tr>\n",
       "    <tr>\n",
       "      <th>39286</th>\n",
       "      <td>30</td>\n",
       "      <td>NESSUNO SCONTO</td>\n",
       "      <td>F</td>\n",
       "      <td>ABBONAMENTO MUSEI RIDOTTO</td>\n",
       "      <td>38</td>\n",
       "      <td>44.0</td>\n",
       "      <td>4.156250</td>\n",
       "      <td>0</td>\n",
       "    </tr>\n",
       "    <tr>\n",
       "      <th>...</th>\n",
       "      <td>...</td>\n",
       "      <td>...</td>\n",
       "      <td>...</td>\n",
       "      <td>...</td>\n",
       "      <td>...</td>\n",
       "      <td>...</td>\n",
       "      <td>...</td>\n",
       "      <td>...</td>\n",
       "    </tr>\n",
       "    <tr>\n",
       "      <th>24349</th>\n",
       "      <td>28</td>\n",
       "      <td>RINNOVO ABBONAMENTO</td>\n",
       "      <td>M</td>\n",
       "      <td>ABBONAMENTO MUSEI RIDOTTO</td>\n",
       "      <td>13</td>\n",
       "      <td>72.0</td>\n",
       "      <td>3.500000</td>\n",
       "      <td>1</td>\n",
       "    </tr>\n",
       "    <tr>\n",
       "      <th>14356</th>\n",
       "      <td>44</td>\n",
       "      <td>RINNOVO ABBONAMENTO</td>\n",
       "      <td>F</td>\n",
       "      <td>ABBONAMENTI MUSEI TORINO</td>\n",
       "      <td>61</td>\n",
       "      <td>40.0</td>\n",
       "      <td>3.500000</td>\n",
       "      <td>1</td>\n",
       "    </tr>\n",
       "    <tr>\n",
       "      <th>54175</th>\n",
       "      <td>28</td>\n",
       "      <td>RINNOVO ABBONAMENTO</td>\n",
       "      <td>F</td>\n",
       "      <td>ABBONAMENTO MUSEI RIDOTTO</td>\n",
       "      <td>11</td>\n",
       "      <td>44.0</td>\n",
       "      <td>4.608696</td>\n",
       "      <td>1</td>\n",
       "    </tr>\n",
       "    <tr>\n",
       "      <th>46835</th>\n",
       "      <td>49</td>\n",
       "      <td>NESSUNO SCONTO</td>\n",
       "      <td>M</td>\n",
       "      <td>ABBONAMENTI MUSEI TORINO</td>\n",
       "      <td>32</td>\n",
       "      <td>44.0</td>\n",
       "      <td>5.111111</td>\n",
       "      <td>0</td>\n",
       "    </tr>\n",
       "    <tr>\n",
       "      <th>42385</th>\n",
       "      <td>28</td>\n",
       "      <td>NESSUNO SCONTO</td>\n",
       "      <td>M</td>\n",
       "      <td>ABBONAMENTO RIDOTTO SCONTATO</td>\n",
       "      <td>45</td>\n",
       "      <td>44.0</td>\n",
       "      <td>4.437500</td>\n",
       "      <td>0</td>\n",
       "    </tr>\n",
       "  </tbody>\n",
       "</table>\n",
       "<p>13920 rows × 8 columns</p>\n",
       "</div>"
      ],
      "text/plain": [
       "       Amount             Discount Gender                 ReductionType  \\\n",
       "14362      44       MONDADORI CARD      M      ABBONAMENTI MUSEI TORINO   \n",
       "23731      44  RINNOVO ABBONAMENTO      F      ABBONAMENTI MUSEI TORINO   \n",
       "26307      30       NESSUNO SCONTO      F     ABBONAMENTO MUSEI RIDOTTO   \n",
       "14361      49       NESSUNO SCONTO      F      ABBONAMENTI MUSEI TORINO   \n",
       "39286      30       NESSUNO SCONTO      F     ABBONAMENTO MUSEI RIDOTTO   \n",
       "...       ...                  ...    ...                           ...   \n",
       "24349      28  RINNOVO ABBONAMENTO      M     ABBONAMENTO MUSEI RIDOTTO   \n",
       "14356      44  RINNOVO ABBONAMENTO      F      ABBONAMENTI MUSEI TORINO   \n",
       "54175      28  RINNOVO ABBONAMENTO      F     ABBONAMENTO MUSEI RIDOTTO   \n",
       "46835      49       NESSUNO SCONTO      M      ABBONAMENTI MUSEI TORINO   \n",
       "42385      28       NESSUNO SCONTO      M  ABBONAMENTO RIDOTTO SCONTATO   \n",
       "\n",
       "       interval_visit   Âge  AverageSpending  Label2014  \n",
       "14362              97  61.0         5.125000          1  \n",
       "23731             132  38.0         5.166667          1  \n",
       "26307             165  23.0         5.500000          0  \n",
       "14361               0  37.0         5.375000          1  \n",
       "39286              38  44.0         4.156250          0  \n",
       "...               ...   ...              ...        ...  \n",
       "24349              13  72.0         3.500000          1  \n",
       "14356              61  40.0         3.500000          1  \n",
       "54175              11  44.0         4.608696          1  \n",
       "46835              32  44.0         5.111111          0  \n",
       "42385              45  44.0         4.437500          0  \n",
       "\n",
       "[13920 rows x 8 columns]"
      ]
     },
     "execution_count": 25,
     "metadata": {},
     "output_type": "execute_result"
    }
   ],
   "source": [
    "testnew"
   ]
  },
  {
   "cell_type": "code",
   "execution_count": 26,
   "id": "6caae96f",
   "metadata": {},
   "outputs": [],
   "source": [
    "# Convert 'default.payment.next.month' column to numeric\n",
    "testnew['Label2014'] = pd.to_numeric(testnew['Label2014'])\n"
   ]
  },
  {
   "cell_type": "code",
   "execution_count": 27,
   "id": "e2b58cfd",
   "metadata": {},
   "outputs": [
    {
     "data": {
      "text/html": [
       "<div>\n",
       "<style scoped>\n",
       "    .dataframe tbody tr th:only-of-type {\n",
       "        vertical-align: middle;\n",
       "    }\n",
       "\n",
       "    .dataframe tbody tr th {\n",
       "        vertical-align: top;\n",
       "    }\n",
       "\n",
       "    .dataframe thead th {\n",
       "        text-align: right;\n",
       "    }\n",
       "</style>\n",
       "<table border=\"1\" class=\"dataframe\">\n",
       "  <thead>\n",
       "    <tr style=\"text-align: right;\">\n",
       "      <th></th>\n",
       "      <th>Amount</th>\n",
       "      <th>Discount</th>\n",
       "      <th>Gender</th>\n",
       "      <th>ReductionType</th>\n",
       "      <th>interval_visit</th>\n",
       "      <th>Âge</th>\n",
       "      <th>AverageSpending</th>\n",
       "      <th>Label2014</th>\n",
       "    </tr>\n",
       "  </thead>\n",
       "  <tbody>\n",
       "    <tr>\n",
       "      <th>14362</th>\n",
       "      <td>44</td>\n",
       "      <td>MONDADORI CARD</td>\n",
       "      <td>M</td>\n",
       "      <td>ABBONAMENTI MUSEI TORINO</td>\n",
       "      <td>97</td>\n",
       "      <td>61.0</td>\n",
       "      <td>5.125000</td>\n",
       "      <td>1</td>\n",
       "    </tr>\n",
       "    <tr>\n",
       "      <th>23731</th>\n",
       "      <td>44</td>\n",
       "      <td>RINNOVO ABBONAMENTO</td>\n",
       "      <td>F</td>\n",
       "      <td>ABBONAMENTI MUSEI TORINO</td>\n",
       "      <td>132</td>\n",
       "      <td>38.0</td>\n",
       "      <td>5.166667</td>\n",
       "      <td>1</td>\n",
       "    </tr>\n",
       "    <tr>\n",
       "      <th>26307</th>\n",
       "      <td>30</td>\n",
       "      <td>NESSUNO SCONTO</td>\n",
       "      <td>F</td>\n",
       "      <td>ABBONAMENTO MUSEI RIDOTTO</td>\n",
       "      <td>165</td>\n",
       "      <td>23.0</td>\n",
       "      <td>5.500000</td>\n",
       "      <td>0</td>\n",
       "    </tr>\n",
       "    <tr>\n",
       "      <th>14361</th>\n",
       "      <td>49</td>\n",
       "      <td>NESSUNO SCONTO</td>\n",
       "      <td>F</td>\n",
       "      <td>ABBONAMENTI MUSEI TORINO</td>\n",
       "      <td>0</td>\n",
       "      <td>37.0</td>\n",
       "      <td>5.375000</td>\n",
       "      <td>1</td>\n",
       "    </tr>\n",
       "    <tr>\n",
       "      <th>39286</th>\n",
       "      <td>30</td>\n",
       "      <td>NESSUNO SCONTO</td>\n",
       "      <td>F</td>\n",
       "      <td>ABBONAMENTO MUSEI RIDOTTO</td>\n",
       "      <td>38</td>\n",
       "      <td>44.0</td>\n",
       "      <td>4.156250</td>\n",
       "      <td>0</td>\n",
       "    </tr>\n",
       "    <tr>\n",
       "      <th>...</th>\n",
       "      <td>...</td>\n",
       "      <td>...</td>\n",
       "      <td>...</td>\n",
       "      <td>...</td>\n",
       "      <td>...</td>\n",
       "      <td>...</td>\n",
       "      <td>...</td>\n",
       "      <td>...</td>\n",
       "    </tr>\n",
       "    <tr>\n",
       "      <th>24349</th>\n",
       "      <td>28</td>\n",
       "      <td>RINNOVO ABBONAMENTO</td>\n",
       "      <td>M</td>\n",
       "      <td>ABBONAMENTO MUSEI RIDOTTO</td>\n",
       "      <td>13</td>\n",
       "      <td>72.0</td>\n",
       "      <td>3.500000</td>\n",
       "      <td>1</td>\n",
       "    </tr>\n",
       "    <tr>\n",
       "      <th>14356</th>\n",
       "      <td>44</td>\n",
       "      <td>RINNOVO ABBONAMENTO</td>\n",
       "      <td>F</td>\n",
       "      <td>ABBONAMENTI MUSEI TORINO</td>\n",
       "      <td>61</td>\n",
       "      <td>40.0</td>\n",
       "      <td>3.500000</td>\n",
       "      <td>1</td>\n",
       "    </tr>\n",
       "    <tr>\n",
       "      <th>54175</th>\n",
       "      <td>28</td>\n",
       "      <td>RINNOVO ABBONAMENTO</td>\n",
       "      <td>F</td>\n",
       "      <td>ABBONAMENTO MUSEI RIDOTTO</td>\n",
       "      <td>11</td>\n",
       "      <td>44.0</td>\n",
       "      <td>4.608696</td>\n",
       "      <td>1</td>\n",
       "    </tr>\n",
       "    <tr>\n",
       "      <th>46835</th>\n",
       "      <td>49</td>\n",
       "      <td>NESSUNO SCONTO</td>\n",
       "      <td>M</td>\n",
       "      <td>ABBONAMENTI MUSEI TORINO</td>\n",
       "      <td>32</td>\n",
       "      <td>44.0</td>\n",
       "      <td>5.111111</td>\n",
       "      <td>0</td>\n",
       "    </tr>\n",
       "    <tr>\n",
       "      <th>42385</th>\n",
       "      <td>28</td>\n",
       "      <td>NESSUNO SCONTO</td>\n",
       "      <td>M</td>\n",
       "      <td>ABBONAMENTO RIDOTTO SCONTATO</td>\n",
       "      <td>45</td>\n",
       "      <td>44.0</td>\n",
       "      <td>4.437500</td>\n",
       "      <td>0</td>\n",
       "    </tr>\n",
       "  </tbody>\n",
       "</table>\n",
       "<p>13920 rows × 8 columns</p>\n",
       "</div>"
      ],
      "text/plain": [
       "       Amount             Discount Gender                 ReductionType  \\\n",
       "14362      44       MONDADORI CARD      M      ABBONAMENTI MUSEI TORINO   \n",
       "23731      44  RINNOVO ABBONAMENTO      F      ABBONAMENTI MUSEI TORINO   \n",
       "26307      30       NESSUNO SCONTO      F     ABBONAMENTO MUSEI RIDOTTO   \n",
       "14361      49       NESSUNO SCONTO      F      ABBONAMENTI MUSEI TORINO   \n",
       "39286      30       NESSUNO SCONTO      F     ABBONAMENTO MUSEI RIDOTTO   \n",
       "...       ...                  ...    ...                           ...   \n",
       "24349      28  RINNOVO ABBONAMENTO      M     ABBONAMENTO MUSEI RIDOTTO   \n",
       "14356      44  RINNOVO ABBONAMENTO      F      ABBONAMENTI MUSEI TORINO   \n",
       "54175      28  RINNOVO ABBONAMENTO      F     ABBONAMENTO MUSEI RIDOTTO   \n",
       "46835      49       NESSUNO SCONTO      M      ABBONAMENTI MUSEI TORINO   \n",
       "42385      28       NESSUNO SCONTO      M  ABBONAMENTO RIDOTTO SCONTATO   \n",
       "\n",
       "       interval_visit   Âge  AverageSpending  Label2014  \n",
       "14362              97  61.0         5.125000          1  \n",
       "23731             132  38.0         5.166667          1  \n",
       "26307             165  23.0         5.500000          0  \n",
       "14361               0  37.0         5.375000          1  \n",
       "39286              38  44.0         4.156250          0  \n",
       "...               ...   ...              ...        ...  \n",
       "24349              13  72.0         3.500000          1  \n",
       "14356              61  40.0         3.500000          1  \n",
       "54175              11  44.0         4.608696          1  \n",
       "46835              32  44.0         5.111111          0  \n",
       "42385              45  44.0         4.437500          0  \n",
       "\n",
       "[13920 rows x 8 columns]"
      ]
     },
     "execution_count": 27,
     "metadata": {},
     "output_type": "execute_result"
    }
   ],
   "source": [
    "testnew"
   ]
  },
  {
   "cell_type": "code",
   "execution_count": 28,
   "id": "8605f245",
   "metadata": {},
   "outputs": [],
   "source": [
    "# Calculate profit based on the provided formula\n",
    "testnew['profit'] = testnew['Label2014'] * 9.8 - (1 - testnew['Label2014']) *(testnew['Amount'] +0.2-10)\n"
   ]
  },
  {
   "cell_type": "code",
   "execution_count": 29,
   "id": "9821c70f",
   "metadata": {},
   "outputs": [
    {
     "data": {
      "text/html": [
       "<div>\n",
       "<style scoped>\n",
       "    .dataframe tbody tr th:only-of-type {\n",
       "        vertical-align: middle;\n",
       "    }\n",
       "\n",
       "    .dataframe tbody tr th {\n",
       "        vertical-align: top;\n",
       "    }\n",
       "\n",
       "    .dataframe thead th {\n",
       "        text-align: right;\n",
       "    }\n",
       "</style>\n",
       "<table border=\"1\" class=\"dataframe\">\n",
       "  <thead>\n",
       "    <tr style=\"text-align: right;\">\n",
       "      <th></th>\n",
       "      <th>Amount</th>\n",
       "      <th>Discount</th>\n",
       "      <th>Gender</th>\n",
       "      <th>ReductionType</th>\n",
       "      <th>interval_visit</th>\n",
       "      <th>Âge</th>\n",
       "      <th>AverageSpending</th>\n",
       "      <th>Label2014</th>\n",
       "      <th>profit</th>\n",
       "    </tr>\n",
       "  </thead>\n",
       "  <tbody>\n",
       "    <tr>\n",
       "      <th>14362</th>\n",
       "      <td>44</td>\n",
       "      <td>MONDADORI CARD</td>\n",
       "      <td>M</td>\n",
       "      <td>ABBONAMENTI MUSEI TORINO</td>\n",
       "      <td>97</td>\n",
       "      <td>61.0</td>\n",
       "      <td>5.125000</td>\n",
       "      <td>1</td>\n",
       "      <td>9.8</td>\n",
       "    </tr>\n",
       "    <tr>\n",
       "      <th>23731</th>\n",
       "      <td>44</td>\n",
       "      <td>RINNOVO ABBONAMENTO</td>\n",
       "      <td>F</td>\n",
       "      <td>ABBONAMENTI MUSEI TORINO</td>\n",
       "      <td>132</td>\n",
       "      <td>38.0</td>\n",
       "      <td>5.166667</td>\n",
       "      <td>1</td>\n",
       "      <td>9.8</td>\n",
       "    </tr>\n",
       "    <tr>\n",
       "      <th>26307</th>\n",
       "      <td>30</td>\n",
       "      <td>NESSUNO SCONTO</td>\n",
       "      <td>F</td>\n",
       "      <td>ABBONAMENTO MUSEI RIDOTTO</td>\n",
       "      <td>165</td>\n",
       "      <td>23.0</td>\n",
       "      <td>5.500000</td>\n",
       "      <td>0</td>\n",
       "      <td>-20.2</td>\n",
       "    </tr>\n",
       "    <tr>\n",
       "      <th>14361</th>\n",
       "      <td>49</td>\n",
       "      <td>NESSUNO SCONTO</td>\n",
       "      <td>F</td>\n",
       "      <td>ABBONAMENTI MUSEI TORINO</td>\n",
       "      <td>0</td>\n",
       "      <td>37.0</td>\n",
       "      <td>5.375000</td>\n",
       "      <td>1</td>\n",
       "      <td>9.8</td>\n",
       "    </tr>\n",
       "    <tr>\n",
       "      <th>39286</th>\n",
       "      <td>30</td>\n",
       "      <td>NESSUNO SCONTO</td>\n",
       "      <td>F</td>\n",
       "      <td>ABBONAMENTO MUSEI RIDOTTO</td>\n",
       "      <td>38</td>\n",
       "      <td>44.0</td>\n",
       "      <td>4.156250</td>\n",
       "      <td>0</td>\n",
       "      <td>-20.2</td>\n",
       "    </tr>\n",
       "    <tr>\n",
       "      <th>...</th>\n",
       "      <td>...</td>\n",
       "      <td>...</td>\n",
       "      <td>...</td>\n",
       "      <td>...</td>\n",
       "      <td>...</td>\n",
       "      <td>...</td>\n",
       "      <td>...</td>\n",
       "      <td>...</td>\n",
       "      <td>...</td>\n",
       "    </tr>\n",
       "    <tr>\n",
       "      <th>24349</th>\n",
       "      <td>28</td>\n",
       "      <td>RINNOVO ABBONAMENTO</td>\n",
       "      <td>M</td>\n",
       "      <td>ABBONAMENTO MUSEI RIDOTTO</td>\n",
       "      <td>13</td>\n",
       "      <td>72.0</td>\n",
       "      <td>3.500000</td>\n",
       "      <td>1</td>\n",
       "      <td>9.8</td>\n",
       "    </tr>\n",
       "    <tr>\n",
       "      <th>14356</th>\n",
       "      <td>44</td>\n",
       "      <td>RINNOVO ABBONAMENTO</td>\n",
       "      <td>F</td>\n",
       "      <td>ABBONAMENTI MUSEI TORINO</td>\n",
       "      <td>61</td>\n",
       "      <td>40.0</td>\n",
       "      <td>3.500000</td>\n",
       "      <td>1</td>\n",
       "      <td>9.8</td>\n",
       "    </tr>\n",
       "    <tr>\n",
       "      <th>54175</th>\n",
       "      <td>28</td>\n",
       "      <td>RINNOVO ABBONAMENTO</td>\n",
       "      <td>F</td>\n",
       "      <td>ABBONAMENTO MUSEI RIDOTTO</td>\n",
       "      <td>11</td>\n",
       "      <td>44.0</td>\n",
       "      <td>4.608696</td>\n",
       "      <td>1</td>\n",
       "      <td>9.8</td>\n",
       "    </tr>\n",
       "    <tr>\n",
       "      <th>46835</th>\n",
       "      <td>49</td>\n",
       "      <td>NESSUNO SCONTO</td>\n",
       "      <td>M</td>\n",
       "      <td>ABBONAMENTI MUSEI TORINO</td>\n",
       "      <td>32</td>\n",
       "      <td>44.0</td>\n",
       "      <td>5.111111</td>\n",
       "      <td>0</td>\n",
       "      <td>-39.2</td>\n",
       "    </tr>\n",
       "    <tr>\n",
       "      <th>42385</th>\n",
       "      <td>28</td>\n",
       "      <td>NESSUNO SCONTO</td>\n",
       "      <td>M</td>\n",
       "      <td>ABBONAMENTO RIDOTTO SCONTATO</td>\n",
       "      <td>45</td>\n",
       "      <td>44.0</td>\n",
       "      <td>4.437500</td>\n",
       "      <td>0</td>\n",
       "      <td>-18.2</td>\n",
       "    </tr>\n",
       "  </tbody>\n",
       "</table>\n",
       "<p>13920 rows × 9 columns</p>\n",
       "</div>"
      ],
      "text/plain": [
       "       Amount             Discount Gender                 ReductionType  \\\n",
       "14362      44       MONDADORI CARD      M      ABBONAMENTI MUSEI TORINO   \n",
       "23731      44  RINNOVO ABBONAMENTO      F      ABBONAMENTI MUSEI TORINO   \n",
       "26307      30       NESSUNO SCONTO      F     ABBONAMENTO MUSEI RIDOTTO   \n",
       "14361      49       NESSUNO SCONTO      F      ABBONAMENTI MUSEI TORINO   \n",
       "39286      30       NESSUNO SCONTO      F     ABBONAMENTO MUSEI RIDOTTO   \n",
       "...       ...                  ...    ...                           ...   \n",
       "24349      28  RINNOVO ABBONAMENTO      M     ABBONAMENTO MUSEI RIDOTTO   \n",
       "14356      44  RINNOVO ABBONAMENTO      F      ABBONAMENTI MUSEI TORINO   \n",
       "54175      28  RINNOVO ABBONAMENTO      F     ABBONAMENTO MUSEI RIDOTTO   \n",
       "46835      49       NESSUNO SCONTO      M      ABBONAMENTI MUSEI TORINO   \n",
       "42385      28       NESSUNO SCONTO      M  ABBONAMENTO RIDOTTO SCONTATO   \n",
       "\n",
       "       interval_visit   Âge  AverageSpending  Label2014  profit  \n",
       "14362              97  61.0         5.125000          1     9.8  \n",
       "23731             132  38.0         5.166667          1     9.8  \n",
       "26307             165  23.0         5.500000          0   -20.2  \n",
       "14361               0  37.0         5.375000          1     9.8  \n",
       "39286              38  44.0         4.156250          0   -20.2  \n",
       "...               ...   ...              ...        ...     ...  \n",
       "24349              13  72.0         3.500000          1     9.8  \n",
       "14356              61  40.0         3.500000          1     9.8  \n",
       "54175              11  44.0         4.608696          1     9.8  \n",
       "46835              32  44.0         5.111111          0   -39.2  \n",
       "42385              45  44.0         4.437500          0   -18.2  \n",
       "\n",
       "[13920 rows x 9 columns]"
      ]
     },
     "execution_count": 29,
     "metadata": {},
     "output_type": "execute_result"
    }
   ],
   "source": [
    "testnew"
   ]
  },
  {
   "cell_type": "code",
   "execution_count": 31,
   "id": "468bfeca",
   "metadata": {},
   "outputs": [],
   "source": [
    "# RF\n",
    "testnew['rf_prediction'] = rf_probs\n",
    "testnew['rf_rank'] = testnew['rf_prediction'].rank(ascending=False, method='first')\n",
    "testnew['cumsum_rf'] = testnew['profit'].cumsum()"
   ]
  },
  {
   "cell_type": "code",
   "execution_count": 55,
   "id": "c9ef6873",
   "metadata": {},
   "outputs": [],
   "source": [
    "##lR\n",
    "testnew['lr_rank'] = testnew['lr_prediction'].rank(ascending=False, method='first')\n",
    "testnew['lr_prediction'] = lr_probs\n",
    "testnew['cumsum_lr'] = testnew['profit'].cumsum()"
   ]
  },
  {
   "cell_type": "code",
   "execution_count": 72,
   "id": "c2cec053",
   "metadata": {},
   "outputs": [],
   "source": [
    "#XGBOOST\n",
    "testnew['gboost_prediction'] = gboost_probs\n",
    "testnew['gboost_rank'] = testnew['gboost_prediction'].rank(ascending=False, method='first')\n",
    "testnew['cumsum_gboost'] = testnew['profit'].cumsum()"
   ]
  },
  {
   "cell_type": "code",
   "execution_count": 85,
   "id": "78c857a3",
   "metadata": {},
   "outputs": [
    {
     "data": {
      "text/html": [
       "<div>\n",
       "<style scoped>\n",
       "    .dataframe tbody tr th:only-of-type {\n",
       "        vertical-align: middle;\n",
       "    }\n",
       "\n",
       "    .dataframe tbody tr th {\n",
       "        vertical-align: top;\n",
       "    }\n",
       "\n",
       "    .dataframe thead th {\n",
       "        text-align: right;\n",
       "    }\n",
       "</style>\n",
       "<table border=\"1\" class=\"dataframe\">\n",
       "  <thead>\n",
       "    <tr style=\"text-align: right;\">\n",
       "      <th></th>\n",
       "      <th>Amount</th>\n",
       "      <th>Discount</th>\n",
       "      <th>Gender</th>\n",
       "      <th>ReductionType</th>\n",
       "      <th>interval_visit</th>\n",
       "      <th>Âge</th>\n",
       "      <th>AverageSpending</th>\n",
       "      <th>Label2014</th>\n",
       "      <th>profit</th>\n",
       "      <th>rf_prediction</th>\n",
       "      <th>rf_rank</th>\n",
       "      <th>cumsum_rf</th>\n",
       "      <th>lr_prediction</th>\n",
       "      <th>lr_rank</th>\n",
       "      <th>cumsum_lr</th>\n",
       "      <th>gboost_prediction</th>\n",
       "      <th>gboost_rank</th>\n",
       "      <th>cumsum_gboost</th>\n",
       "    </tr>\n",
       "  </thead>\n",
       "  <tbody>\n",
       "    <tr>\n",
       "      <th>14362</th>\n",
       "      <td>44</td>\n",
       "      <td>MONDADORI CARD</td>\n",
       "      <td>M</td>\n",
       "      <td>ABBONAMENTI MUSEI TORINO</td>\n",
       "      <td>97</td>\n",
       "      <td>61.0</td>\n",
       "      <td>5.125000</td>\n",
       "      <td>1</td>\n",
       "      <td>9.8</td>\n",
       "      <td>0.630</td>\n",
       "      <td>9456.0</td>\n",
       "      <td>9.8</td>\n",
       "      <td>0.607128</td>\n",
       "      <td>9939.0</td>\n",
       "      <td>9.8</td>\n",
       "      <td>0.757251</td>\n",
       "      <td>7067.0</td>\n",
       "      <td>9.8</td>\n",
       "    </tr>\n",
       "    <tr>\n",
       "      <th>23731</th>\n",
       "      <td>44</td>\n",
       "      <td>RINNOVO ABBONAMENTO</td>\n",
       "      <td>F</td>\n",
       "      <td>ABBONAMENTI MUSEI TORINO</td>\n",
       "      <td>132</td>\n",
       "      <td>38.0</td>\n",
       "      <td>5.166667</td>\n",
       "      <td>1</td>\n",
       "      <td>9.8</td>\n",
       "      <td>0.780</td>\n",
       "      <td>6938.0</td>\n",
       "      <td>19.6</td>\n",
       "      <td>0.809131</td>\n",
       "      <td>6513.0</td>\n",
       "      <td>19.6</td>\n",
       "      <td>0.704353</td>\n",
       "      <td>8260.0</td>\n",
       "      <td>19.6</td>\n",
       "    </tr>\n",
       "    <tr>\n",
       "      <th>26307</th>\n",
       "      <td>30</td>\n",
       "      <td>NESSUNO SCONTO</td>\n",
       "      <td>F</td>\n",
       "      <td>ABBONAMENTO MUSEI RIDOTTO</td>\n",
       "      <td>165</td>\n",
       "      <td>23.0</td>\n",
       "      <td>5.500000</td>\n",
       "      <td>0</td>\n",
       "      <td>-20.2</td>\n",
       "      <td>0.250</td>\n",
       "      <td>13130.0</td>\n",
       "      <td>-0.6</td>\n",
       "      <td>0.397906</td>\n",
       "      <td>13821.0</td>\n",
       "      <td>-0.6</td>\n",
       "      <td>0.246419</td>\n",
       "      <td>13792.0</td>\n",
       "      <td>-0.6</td>\n",
       "    </tr>\n",
       "    <tr>\n",
       "      <th>14361</th>\n",
       "      <td>49</td>\n",
       "      <td>NESSUNO SCONTO</td>\n",
       "      <td>F</td>\n",
       "      <td>ABBONAMENTI MUSEI TORINO</td>\n",
       "      <td>0</td>\n",
       "      <td>37.0</td>\n",
       "      <td>5.375000</td>\n",
       "      <td>1</td>\n",
       "      <td>9.8</td>\n",
       "      <td>0.356</td>\n",
       "      <td>12380.0</td>\n",
       "      <td>9.2</td>\n",
       "      <td>0.512784</td>\n",
       "      <td>12036.0</td>\n",
       "      <td>9.2</td>\n",
       "      <td>0.432811</td>\n",
       "      <td>12637.0</td>\n",
       "      <td>9.2</td>\n",
       "    </tr>\n",
       "    <tr>\n",
       "      <th>39286</th>\n",
       "      <td>30</td>\n",
       "      <td>NESSUNO SCONTO</td>\n",
       "      <td>F</td>\n",
       "      <td>ABBONAMENTO MUSEI RIDOTTO</td>\n",
       "      <td>38</td>\n",
       "      <td>44.0</td>\n",
       "      <td>4.156250</td>\n",
       "      <td>0</td>\n",
       "      <td>-20.2</td>\n",
       "      <td>0.190</td>\n",
       "      <td>13420.0</td>\n",
       "      <td>-11.0</td>\n",
       "      <td>0.544448</td>\n",
       "      <td>10943.0</td>\n",
       "      <td>-11.0</td>\n",
       "      <td>0.530907</td>\n",
       "      <td>11418.0</td>\n",
       "      <td>-11.0</td>\n",
       "    </tr>\n",
       "    <tr>\n",
       "      <th>...</th>\n",
       "      <td>...</td>\n",
       "      <td>...</td>\n",
       "      <td>...</td>\n",
       "      <td>...</td>\n",
       "      <td>...</td>\n",
       "      <td>...</td>\n",
       "      <td>...</td>\n",
       "      <td>...</td>\n",
       "      <td>...</td>\n",
       "      <td>...</td>\n",
       "      <td>...</td>\n",
       "      <td>...</td>\n",
       "      <td>...</td>\n",
       "      <td>...</td>\n",
       "      <td>...</td>\n",
       "      <td>...</td>\n",
       "      <td>...</td>\n",
       "      <td>...</td>\n",
       "    </tr>\n",
       "    <tr>\n",
       "      <th>24349</th>\n",
       "      <td>28</td>\n",
       "      <td>RINNOVO ABBONAMENTO</td>\n",
       "      <td>M</td>\n",
       "      <td>ABBONAMENTO MUSEI RIDOTTO</td>\n",
       "      <td>13</td>\n",
       "      <td>72.0</td>\n",
       "      <td>3.500000</td>\n",
       "      <td>1</td>\n",
       "      <td>9.8</td>\n",
       "      <td>0.980</td>\n",
       "      <td>2239.0</td>\n",
       "      <td>391.8</td>\n",
       "      <td>0.902637</td>\n",
       "      <td>699.0</td>\n",
       "      <td>391.8</td>\n",
       "      <td>0.964828</td>\n",
       "      <td>455.0</td>\n",
       "      <td>391.8</td>\n",
       "    </tr>\n",
       "    <tr>\n",
       "      <th>14356</th>\n",
       "      <td>44</td>\n",
       "      <td>RINNOVO ABBONAMENTO</td>\n",
       "      <td>F</td>\n",
       "      <td>ABBONAMENTI MUSEI TORINO</td>\n",
       "      <td>61</td>\n",
       "      <td>40.0</td>\n",
       "      <td>3.500000</td>\n",
       "      <td>1</td>\n",
       "      <td>9.8</td>\n",
       "      <td>0.870</td>\n",
       "      <td>5301.0</td>\n",
       "      <td>401.6</td>\n",
       "      <td>0.826282</td>\n",
       "      <td>5941.0</td>\n",
       "      <td>401.6</td>\n",
       "      <td>0.773728</td>\n",
       "      <td>6731.0</td>\n",
       "      <td>401.6</td>\n",
       "    </tr>\n",
       "    <tr>\n",
       "      <th>54175</th>\n",
       "      <td>28</td>\n",
       "      <td>RINNOVO ABBONAMENTO</td>\n",
       "      <td>F</td>\n",
       "      <td>ABBONAMENTO MUSEI RIDOTTO</td>\n",
       "      <td>11</td>\n",
       "      <td>44.0</td>\n",
       "      <td>4.608696</td>\n",
       "      <td>1</td>\n",
       "      <td>9.8</td>\n",
       "      <td>0.980</td>\n",
       "      <td>2240.0</td>\n",
       "      <td>411.4</td>\n",
       "      <td>0.857458</td>\n",
       "      <td>2101.0</td>\n",
       "      <td>411.4</td>\n",
       "      <td>0.906820</td>\n",
       "      <td>2350.0</td>\n",
       "      <td>411.4</td>\n",
       "    </tr>\n",
       "    <tr>\n",
       "      <th>46835</th>\n",
       "      <td>49</td>\n",
       "      <td>NESSUNO SCONTO</td>\n",
       "      <td>M</td>\n",
       "      <td>ABBONAMENTI MUSEI TORINO</td>\n",
       "      <td>32</td>\n",
       "      <td>44.0</td>\n",
       "      <td>5.111111</td>\n",
       "      <td>0</td>\n",
       "      <td>-39.2</td>\n",
       "      <td>0.150</td>\n",
       "      <td>13588.0</td>\n",
       "      <td>372.2</td>\n",
       "      <td>0.506302</td>\n",
       "      <td>12265.0</td>\n",
       "      <td>372.2</td>\n",
       "      <td>0.550933</td>\n",
       "      <td>11077.0</td>\n",
       "      <td>372.2</td>\n",
       "    </tr>\n",
       "    <tr>\n",
       "      <th>42385</th>\n",
       "      <td>28</td>\n",
       "      <td>NESSUNO SCONTO</td>\n",
       "      <td>M</td>\n",
       "      <td>ABBONAMENTO RIDOTTO SCONTATO</td>\n",
       "      <td>45</td>\n",
       "      <td>44.0</td>\n",
       "      <td>4.437500</td>\n",
       "      <td>0</td>\n",
       "      <td>-18.2</td>\n",
       "      <td>0.520</td>\n",
       "      <td>10871.0</td>\n",
       "      <td>354.0</td>\n",
       "      <td>0.503688</td>\n",
       "      <td>12368.0</td>\n",
       "      <td>354.0</td>\n",
       "      <td>0.474552</td>\n",
       "      <td>12223.0</td>\n",
       "      <td>354.0</td>\n",
       "    </tr>\n",
       "  </tbody>\n",
       "</table>\n",
       "<p>13920 rows × 18 columns</p>\n",
       "</div>"
      ],
      "text/plain": [
       "       Amount             Discount Gender                 ReductionType  \\\n",
       "14362      44       MONDADORI CARD      M      ABBONAMENTI MUSEI TORINO   \n",
       "23731      44  RINNOVO ABBONAMENTO      F      ABBONAMENTI MUSEI TORINO   \n",
       "26307      30       NESSUNO SCONTO      F     ABBONAMENTO MUSEI RIDOTTO   \n",
       "14361      49       NESSUNO SCONTO      F      ABBONAMENTI MUSEI TORINO   \n",
       "39286      30       NESSUNO SCONTO      F     ABBONAMENTO MUSEI RIDOTTO   \n",
       "...       ...                  ...    ...                           ...   \n",
       "24349      28  RINNOVO ABBONAMENTO      M     ABBONAMENTO MUSEI RIDOTTO   \n",
       "14356      44  RINNOVO ABBONAMENTO      F      ABBONAMENTI MUSEI TORINO   \n",
       "54175      28  RINNOVO ABBONAMENTO      F     ABBONAMENTO MUSEI RIDOTTO   \n",
       "46835      49       NESSUNO SCONTO      M      ABBONAMENTI MUSEI TORINO   \n",
       "42385      28       NESSUNO SCONTO      M  ABBONAMENTO RIDOTTO SCONTATO   \n",
       "\n",
       "       interval_visit   Âge  AverageSpending  Label2014  profit  \\\n",
       "14362              97  61.0         5.125000          1     9.8   \n",
       "23731             132  38.0         5.166667          1     9.8   \n",
       "26307             165  23.0         5.500000          0   -20.2   \n",
       "14361               0  37.0         5.375000          1     9.8   \n",
       "39286              38  44.0         4.156250          0   -20.2   \n",
       "...               ...   ...              ...        ...     ...   \n",
       "24349              13  72.0         3.500000          1     9.8   \n",
       "14356              61  40.0         3.500000          1     9.8   \n",
       "54175              11  44.0         4.608696          1     9.8   \n",
       "46835              32  44.0         5.111111          0   -39.2   \n",
       "42385              45  44.0         4.437500          0   -18.2   \n",
       "\n",
       "       rf_prediction  rf_rank  cumsum_rf  lr_prediction  lr_rank  cumsum_lr  \\\n",
       "14362          0.630   9456.0        9.8       0.607128   9939.0        9.8   \n",
       "23731          0.780   6938.0       19.6       0.809131   6513.0       19.6   \n",
       "26307          0.250  13130.0       -0.6       0.397906  13821.0       -0.6   \n",
       "14361          0.356  12380.0        9.2       0.512784  12036.0        9.2   \n",
       "39286          0.190  13420.0      -11.0       0.544448  10943.0      -11.0   \n",
       "...              ...      ...        ...            ...      ...        ...   \n",
       "24349          0.980   2239.0      391.8       0.902637    699.0      391.8   \n",
       "14356          0.870   5301.0      401.6       0.826282   5941.0      401.6   \n",
       "54175          0.980   2240.0      411.4       0.857458   2101.0      411.4   \n",
       "46835          0.150  13588.0      372.2       0.506302  12265.0      372.2   \n",
       "42385          0.520  10871.0      354.0       0.503688  12368.0      354.0   \n",
       "\n",
       "       gboost_prediction  gboost_rank  cumsum_gboost  \n",
       "14362           0.757251       7067.0            9.8  \n",
       "23731           0.704353       8260.0           19.6  \n",
       "26307           0.246419      13792.0           -0.6  \n",
       "14361           0.432811      12637.0            9.2  \n",
       "39286           0.530907      11418.0          -11.0  \n",
       "...                  ...          ...            ...  \n",
       "24349           0.964828        455.0          391.8  \n",
       "14356           0.773728       6731.0          401.6  \n",
       "54175           0.906820       2350.0          411.4  \n",
       "46835           0.550933      11077.0          372.2  \n",
       "42385           0.474552      12223.0          354.0  \n",
       "\n",
       "[13920 rows x 18 columns]"
      ]
     },
     "execution_count": 85,
     "metadata": {},
     "output_type": "execute_result"
    }
   ],
   "source": [
    "testnew"
   ]
  },
  {
   "cell_type": "code",
   "execution_count": 84,
   "id": "ccd56b84",
   "metadata": {},
   "outputs": [
    {
     "data": {
      "text/plain": [
       "Text(0, 0.5, 'Cumulative profit ')"
      ]
     },
     "execution_count": 84,
     "metadata": {},
     "output_type": "execute_result"
    },
    {
     "data": {
      "image/png": "[encoded data removed]",
      "text/plain": [
       "<Figure size 1000x600 with 1 Axes>"
      ]
     },
     "metadata": {},
     "output_type": "display_data"
    }
   ],
   "source": [
    "##plot the cumulative profit curve for each model\n",
    "sns.set(style='whitegrid')\n",
    "fig, ax=plt.subplots(figsize=(10,6))\n",
    "ax.plot(testnew['lr_rank'].sort_values(ascending=True),testnew.sort_values(by='lr_rank',ascending=True)\n",
    "        ['profit'].cumsum(), label='Logistic Regression')\n",
    "ax.plot(testnew['rf_rank'].sort_values(ascending=True),testnew.sort_values(by='rf_rank',ascending=True)\n",
    "        ['profit'].cumsum(), label='Random Forest')\n",
    "ax.plot(testnew['gboost_rank'].sort_values(ascending=True),testnew.sort_values(by='gboost_rank',ascending=True)\n",
    "        ['profit'].cumsum(), label='XGBoost classifier')\n",
    "ax.legend(loc='upper right')\n",
    "ax.set_title(\"Profit curve\")\n",
    "ax.set_xlabel(\"Instance\")\n",
    "ax.set_ylabel(\"Cumulative profit \")"
   ]
  },
  {
   "cell_type": "code",
   "execution_count": null,
   "id": "e75e6d34",
   "metadata": {},
   "outputs": [],
   "source": []
  }
 ],
 "metadata": {
  "kernelspec": {
   "display_name": "Python 3 (ipykernel)",
   "language": "python",
   "name": "python3"
  },
  "language_info": {
   "codemirror_mode": {
    "name": "ipython",
    "version": 3
   },
   "file_extension": ".py",
   "mimetype": "text/x-python",
   "name": "python",
   "nbconvert_exporter": "python",
   "pygments_lexer": "ipython3",
   "version": "3.9.13"
  }
 },
 "nbformat": 4,
 "nbformat_minor": 5
}
